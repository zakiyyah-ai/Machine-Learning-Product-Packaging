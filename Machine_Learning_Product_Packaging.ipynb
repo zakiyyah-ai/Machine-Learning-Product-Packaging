{
  "nbformat": 4,
  "nbformat_minor": 0,
  "metadata": {
    "colab": {
      "name": "Untitled6.ipynb",
      "provenance": [],
      "authorship_tag": "ABX9TyO8BwFEw5QnySqkJXwjbnLB",
      "include_colab_link": true
    },
    "kernelspec": {
      "name": "ir",
      "display_name": "R"
    },
    "language_info": {
      "name": "R"
    }
  },
  "cells": [
    {
      "cell_type": "markdown",
      "metadata": {
        "id": "view-in-github",
        "colab_type": "text"
      },
      "source": [
        "<a href=\"https://colab.research.google.com/github/zakiyyah-ai/Product-Packaging-for-Retail-with-R/blob/main/Machine_Learning_Product_Packaging.ipynb\" target=\"_parent\"><img src=\"https://colab.research.google.com/assets/colab-badge.svg\" alt=\"Open In Colab\"/></a>"
      ]
    },
    {
      "cell_type": "code",
      "metadata": {
        "id": "Dtf62aT46xV0"
      },
      "source": [
        "install.packages(\"arules\", lib = \"/usr/local/lib/R/site-library\")"
      ],
      "execution_count": 15,
      "outputs": []
    },
    {
      "cell_type": "code",
      "metadata": {
        "id": "TjpH9lCY4vV0"
      },
      "source": [
        "library(arules)\n",
        "transaksi_tabular <- read.transactions(file=\"https://storage.googleapis.com/dqlab-dataset/transaksi_dqlab_retail.tsv\", format=\"single\", sep=\"\\t\", cols=c(1,2), skip=1)\n",
        "write(transaksi_tabular, file=\"test_project_retail_1.txt\", sep=\",\")"
      ],
      "execution_count": 20,
      "outputs": []
    },
    {
      "cell_type": "code",
      "metadata": {
        "colab": {
          "base_uri": "https://localhost:8080/",
          "height": 52
        },
        "id": "_eTSEWGcADBp",
        "outputId": "cf175006-791f-412a-d265-824c00a75baf"
      },
      "source": [
        "library(arules)\n",
        "item <- sort( itemFrequency( read.transactions( file=\"https://storage.googleapis.com/dqlab-dataset/transaksi_dqlab_retail.tsv\", \n",
        "format=\"single\", sep=\"\\t\", cols=c(1,2), skip=1 ), type=\"absolute\"), decreasing=TRUE)[1:10]\n",
        "write.csv(data.frame(\"Nama.Produk\"=names(item), \"Jumlah\"=item, row.names=NULL), file=\"top10_item_retail.txt\")\n",
        "item"
      ],
      "execution_count": 21,
      "outputs": [
        {
          "output_type": "display_data",
          "data": {
            "text/plain": [
              "             Shampo Biasa             Serum Vitamin         Baju Batik Wanita \n",
              "                     2075                      1685                      1312 \n",
              "        Baju Kemeja Putih      Celana Jogger Casual               Cover Koper \n",
              "                     1255                      1136                      1086 \n",
              "       Sepatu Sandal Anak Tali Pinggang Gesper Pria       Sepatu Sport merk Z \n",
              "                     1062                      1003                       888 \n",
              "             Wedges Hitam \n",
              "                      849 "
            ],
            "text/latex": "\\begin{description*}\n\\item[Shampo Biasa] 2075\n\\item[Serum Vitamin] 1685\n\\item[Baju Batik Wanita] 1312\n\\item[Baju Kemeja Putih] 1255\n\\item[Celana Jogger Casual] 1136\n\\item[Cover Koper] 1086\n\\item[Sepatu Sandal Anak] 1062\n\\item[Tali Pinggang Gesper Pria] 1003\n\\item[Sepatu Sport merk Z] 888\n\\item[Wedges Hitam] 849\n\\end{description*}\n",
            "text/markdown": "Shampo Biasa\n:   2075Serum Vitamin\n:   1685Baju Batik Wanita\n:   1312Baju Kemeja Putih\n:   1255Celana Jogger Casual\n:   1136Cover Koper\n:   1086Sepatu Sandal Anak\n:   1062Tali Pinggang Gesper Pria\n:   1003Sepatu Sport merk Z\n:   888Wedges Hitam\n:   849\n\n",
            "text/html": [
              "<style>\n",
              ".dl-inline {width: auto; margin:0; padding: 0}\n",
              ".dl-inline>dt, .dl-inline>dd {float: none; width: auto; display: inline-block}\n",
              ".dl-inline>dt::after {content: \":\\0020\"; padding-right: .5ex}\n",
              ".dl-inline>dt:not(:first-of-type) {padding-left: .5ex}\n",
              "</style><dl class=dl-inline><dt>Shampo Biasa</dt><dd>2075</dd><dt>Serum Vitamin</dt><dd>1685</dd><dt>Baju Batik Wanita</dt><dd>1312</dd><dt>Baju Kemeja Putih</dt><dd>1255</dd><dt>Celana Jogger Casual</dt><dd>1136</dd><dt>Cover Koper</dt><dd>1086</dd><dt>Sepatu Sandal Anak</dt><dd>1062</dd><dt>Tali Pinggang Gesper Pria</dt><dd>1003</dd><dt>Sepatu Sport merk Z</dt><dd>888</dd><dt>Wedges Hitam</dt><dd>849</dd></dl>\n"
            ]
          },
          "metadata": {
            "tags": []
          }
        }
      ]
    },
    {
      "cell_type": "code",
      "metadata": {
        "colab": {
          "base_uri": "https://localhost:8080/",
          "height": 547
        },
        "id": "1H3cL-P-Adfs",
        "outputId": "260f31b3-46be-47f0-ae8d-80453b1e598a"
      },
      "source": [
        "library(arules)\n",
        "item <- sort( itemFrequency( read.transactions( file=\"transaksi_dqlab_retail.tsv\", \n",
        "format=\"single\", sep=\"\\t\", cols=c(1,2), skip=1 ), type=\"absolute\"), decreasing=FALSE)[1:10]\n",
        "write.csv(data.frame(\"Nama.Produk\"=names(item), \"Jumlah\"=item, row.names=NULL), file=\"bottom10_item_retail.txt\")\n",
        "item"
      ],
      "execution_count": 22,
      "outputs": [
        {
          "output_type": "stream",
          "text": [
            "Warning message in file(file, \"r\"):\n",
            "“cannot open file 'transaksi_dqlab_retail.tsv': No such file or directory”\n"
          ],
          "name": "stderr"
        },
        {
          "output_type": "error",
          "ename": "ERROR",
          "evalue": "ignored",
          "traceback": [
            "Error in h(simpleError(msg, call)): error in evaluating the argument 'x' in selecting a method for function 'sort': error in evaluating the argument 'x' in selecting a method for function 'itemFrequency': cannot open the connection\nTraceback:\n",
            "1. sort(itemFrequency(read.transactions(file = \"transaksi_dqlab_retail.tsv\", \n .     format = \"single\", sep = \"\\t\", cols = c(1, 2), skip = 1), \n .     type = \"absolute\"), decreasing = FALSE)",
            "2. itemFrequency(read.transactions(file = \"transaksi_dqlab_retail.tsv\", \n .     format = \"single\", sep = \"\\t\", cols = c(1, 2), skip = 1), \n .     type = \"absolute\")",
            "3. read.transactions(file = \"transaksi_dqlab_retail.tsv\", format = \"single\", \n .     sep = \"\\t\", cols = c(1, 2), skip = 1)",
            "4. scan(file = file, sep = sep, quote = quote, what = what, flush = TRUE, \n .     quiet = TRUE, skip = skip, encoding = encoding)",
            "5. file(file, \"r\")",
            "6. .handleSimpleError(function (cond) \n . .Internal(C_tryCatchHelper(addr, 1L, cond)), \"cannot open the connection\", \n .     base::quote(file(file, \"r\")))",
            "7. h(simpleError(msg, call))",
            "8. .handleSimpleError(function (cond) \n . .Internal(C_tryCatchHelper(addr, 1L, cond)), \"error in evaluating the argument 'x' in selecting a method for function 'itemFrequency': cannot open the connection\", \n .     base::quote(h(simpleError(msg, call))))",
            "9. h(simpleError(msg, call))"
          ]
        }
      ]
    }
  ]
}