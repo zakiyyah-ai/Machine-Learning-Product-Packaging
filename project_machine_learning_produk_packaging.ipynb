{
 "cells": [
  {
   "cell_type": "raw",
   "id": "9a0327fa",
   "metadata": {},
   "source": [
    "DQLab berkolaborasi dengan Xeratic memberikan sebuah studi kasus berupa sebuah data transaksi selama 3 bulan terakhir dengan jumlah baris 33,669 baris data dan 3,450 kode transaksi. Dari studi kasus tersebut diharapkan dapat memberikan insight berupa paket produk yang inovatif dan solusi untuk memecahkan masalah stok."
   ]
  },
  {
   "cell_type": "code",
   "execution_count": 1,
   "id": "3b7b45f0",
   "metadata": {
    "scrolled": false
   },
   "outputs": [
    {
     "ename": "ERROR",
     "evalue": "Error in library(arules): there is no package called 'arules'\n",
     "output_type": "error",
     "traceback": [
      "Error in library(arules): there is no package called 'arules'\nTraceback:\n",
      "1. library(arules)"
     ]
    }
   ],
   "source": [
    "library(arules)\n",
    "transaksi_tabular <- read.transactions(file=\"https://storage.googleapis.com/dqlab-dataset/transaksi_dqlab_retail.tsv\", format=\"single\", sep=\"\\t\", cols=c(1,2), skip=1)\n",
    "write(transaksi_tabular, file=\"test_project_retail_1.txt\", sep=\",\")"
   ]
  },
  {
   "cell_type": "code",
   "execution_count": null,
   "id": "7bc297f2",
   "metadata": {},
   "outputs": [],
   "source": [
    "library(arules)\n",
    "item <- sort( itemFrequency( read.transactions( file=\"transaksi_dqlab_retail.tsv\", \n",
    "format=\"single\", sep=\"\\t\", cols=c(1,2), skip=1 ), type=\"absolute\"), decreasing=TRUE)[1:10]\n",
    "write.csv(data.frame(\"Nama.Produk\"=names(item), \"Jumlah\"=item, row.names=NULL), file=\"top10_item_retail.txt\")\n",
    "item"
   ]
  },
  {
   "cell_type": "code",
   "execution_count": null,
   "id": "0e9d8de8",
   "metadata": {},
   "outputs": [],
   "source": [
    "library(arules)\n",
    "item <- sort( itemFrequency( read.transactions( file=\"transaksi_dqlab_retail.tsv\", \n",
    "format=\"single\", sep=\"\\t\", cols=c(1,2), skip=1 ), type=\"absolute\"), decreasing=FALSE)[1:10]\n",
    "write.csv(data.frame(\"Nama.Produk\"=names(item), \"Jumlah\"=item, row.names=NULL), file=\"bottom10_item_retail.txt\")\n",
    "item"
   ]
  },
  {
   "cell_type": "code",
   "execution_count": null,
   "id": "89f90fdc",
   "metadata": {},
   "outputs": [],
   "source": [
    "library(arules)\n",
    "transaksi_tabular <- read.transactions(file=\"transaksi_dqlab_retail.tsv\", format=\"single\", sep=\"\\t\", cols=c(1,2), skip=1)\n",
    "rules <- apriori(transaksi_tabular, parameter = list(supp = 10/length(transaksi_tabular), confidence = 0.5, minlen= 2, maxlen = 3))\n",
    "apriori_rules <- c(head(rules, n = 10, by = \"lift\"))\n",
    "write(apriori_rules, file=\"kombinasi_retail.txt\")"
   ]
  },
  {
   "cell_type": "code",
   "execution_count": null,
   "id": "2e605f9a",
   "metadata": {},
   "outputs": [],
   "source": [
    "library(arules)\n",
    "transaksi_tabular <- read.transactions(file=\"transaksi_dqlab_retail.tsv\", format=\"single\", sep=\"\\t\", cols=c(1,2), skip=1)\n",
    "\n",
    "rules <- apriori(transaksi_tabular, parameter = list(supp = 10/length(transaksi_tabular), confidence = 0.1, minlen= 2, maxlen = 3))\n",
    "\n",
    "apriori_rules1 <- subset(rules, rhs %in% \"Tas Makeup\")\n",
    "apriori_rules2 <- subset(rules, rhs %in% \"Baju Renang Pria Anak-anak\")\n",
    "\n",
    "apriori_rules1 <- head(sort(apriori_rules1, by = \"lift\", decreasing = TRUE), n=3L)\n",
    "apriori_rules2 <- head(sort(apriori_rules2, by = \"lift\", decreasing = TRUE), n=3L)\n",
    "\n",
    "apriori_rules <- c(apriori_rules1, apriori_rules2)\n",
    "\n",
    "inspect(apriori_rules)\n",
    "\n",
    "write(apriori_rules, file=\"kombinasi_retail_slow_moving.txt\")"
   ]
  }
 ],
 "metadata": {
  "kernelspec": {
   "display_name": "R",
   "language": "R",
   "name": "ir"
  },
  "language_info": {
   "codemirror_mode": "r",
   "file_extension": ".r",
   "mimetype": "text/x-r-source",
   "name": "R",
   "pygments_lexer": "r",
   "version": "3.6.1"
  }
 },
 "nbformat": 4,
 "nbformat_minor": 5
}
